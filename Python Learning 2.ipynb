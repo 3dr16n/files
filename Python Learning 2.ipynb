{
 "cells": [
  {
   "cell_type": "code",
   "execution_count": 2,
   "id": "b12b58d4-6ecd-4ac3-980a-b063ef326b4d",
   "metadata": {},
   "outputs": [
    {
     "data": {
      "text/plain": [
       "25"
      ]
     },
     "execution_count": 2,
     "metadata": {},
     "output_type": "execute_result"
    }
   ],
   "source": [
    "5 ** 2 "
   ]
  },
  {
   "cell_type": "code",
   "execution_count": 3,
   "id": "1c9dabec-b28e-426f-a28e-0f83fa2b6d98",
   "metadata": {},
   "outputs": [
    {
     "data": {
      "text/plain": [
       "4.0"
      ]
     },
     "execution_count": 3,
     "metadata": {},
     "output_type": "execute_result"
    }
   ],
   "source": [
    "20 / 5"
   ]
  },
  {
   "cell_type": "code",
   "execution_count": 4,
   "id": "9731fc8c-8dc3-48b3-9f0d-996c358d4e2f",
   "metadata": {},
   "outputs": [
    {
     "data": {
      "text/plain": [
       "3.3333333333333335"
      ]
     },
     "execution_count": 4,
     "metadata": {},
     "output_type": "execute_result"
    }
   ],
   "source": [
    "20 / 6"
   ]
  },
  {
   "cell_type": "code",
   "execution_count": 5,
   "id": "46484e34-c666-4cd9-b018-4cb4cc15434d",
   "metadata": {},
   "outputs": [
    {
     "data": {
      "text/plain": [
       "2"
      ]
     },
     "execution_count": 5,
     "metadata": {},
     "output_type": "execute_result"
    }
   ],
   "source": [
    "20 % 6"
   ]
  },
  {
   "cell_type": "code",
   "execution_count": 6,
   "id": "18356478-3a51-460c-88bc-4e05ada45309",
   "metadata": {},
   "outputs": [
    {
     "data": {
      "text/plain": [
       "'string 1string 1string 1string 1'"
      ]
     },
     "execution_count": 6,
     "metadata": {},
     "output_type": "execute_result"
    }
   ],
   "source": [
    "'string 1' * 4"
   ]
  },
  {
   "cell_type": "code",
   "execution_count": 7,
   "id": "d2c241b4-1fe7-4451-a416-20643e6c8a56",
   "metadata": {},
   "outputs": [
    {
     "data": {
      "text/plain": [
       "True"
      ]
     },
     "execution_count": 7,
     "metadata": {},
     "output_type": "execute_result"
    }
   ],
   "source": [
    " True == True"
   ]
  },
  {
   "cell_type": "code",
   "execution_count": 8,
   "id": "dd3ab737-3a6a-4717-a906-166f12ba16ad",
   "metadata": {},
   "outputs": [
    {
     "data": {
      "text/plain": [
       "True"
      ]
     },
     "execution_count": 8,
     "metadata": {},
     "output_type": "execute_result"
    }
   ],
   "source": [
    "3 < 4"
   ]
  },
  {
   "cell_type": "code",
   "execution_count": 9,
   "id": "328a1cff-30f4-4657-935d-7492376954b4",
   "metadata": {},
   "outputs": [
    {
     "data": {
      "text/plain": [
       "True"
      ]
     },
     "execution_count": 9,
     "metadata": {},
     "output_type": "execute_result"
    }
   ],
   "source": [
    "4 > 3"
   ]
  },
  {
   "cell_type": "code",
   "execution_count": 10,
   "id": "9529e417-4bfd-4788-a9c2-afc2ce75fd00",
   "metadata": {},
   "outputs": [
    {
     "ename": "NameError",
     "evalue": "name 'true' is not defined",
     "output_type": "error",
     "traceback": [
      "\u001b[0;31m---------------------------------------------------------------------------\u001b[0m",
      "\u001b[0;31mNameError\u001b[0m                                 Traceback (most recent call last)",
      "Cell \u001b[0;32mIn[10], line 1\u001b[0m\n\u001b[0;32m----> 1\u001b[0m \u001b[43mtrue\u001b[49m \u001b[38;5;129;01mand\u001b[39;00m true\n",
      "\u001b[0;31mNameError\u001b[0m: name 'true' is not defined"
     ]
    }
   ],
   "source": [
    "true and true"
   ]
  },
  {
   "cell_type": "code",
   "execution_count": 11,
   "id": "8da79578-7734-44d0-9ea2-58011c6e42ad",
   "metadata": {},
   "outputs": [
    {
     "data": {
      "text/plain": [
       "True"
      ]
     },
     "execution_count": 11,
     "metadata": {},
     "output_type": "execute_result"
    }
   ],
   "source": [
    "True and True"
   ]
  },
  {
   "cell_type": "code",
   "execution_count": 12,
   "id": "ef5227fe-29ef-4539-b208-986a0b1fbefb",
   "metadata": {},
   "outputs": [
    {
     "data": {
      "text/plain": [
       "False"
      ]
     },
     "execution_count": 12,
     "metadata": {},
     "output_type": "execute_result"
    }
   ],
   "source": [
    "True and False"
   ]
  },
  {
   "cell_type": "code",
   "execution_count": 13,
   "id": "7f0c8b24-ba93-49ff-acc0-8cfc23abb420",
   "metadata": {},
   "outputs": [
    {
     "data": {
      "text/plain": [
       "True"
      ]
     },
     "execution_count": 13,
     "metadata": {},
     "output_type": "execute_result"
    }
   ],
   "source": [
    "True or False"
   ]
  },
  {
   "cell_type": "code",
   "execution_count": 14,
   "id": "be04e2db-3ba4-4c19-b98c-be074889bfe8",
   "metadata": {},
   "outputs": [
    {
     "data": {
      "text/plain": [
       "False"
      ]
     },
     "execution_count": 14,
     "metadata": {},
     "output_type": "execute_result"
    }
   ],
   "source": [
    "False or False"
   ]
  },
  {
   "cell_type": "code",
   "execution_count": 15,
   "id": "0d010561-b1d8-427c-a337-84b3f1cf281b",
   "metadata": {},
   "outputs": [
    {
     "data": {
      "text/plain": [
       "False"
      ]
     },
     "execution_count": 15,
     "metadata": {},
     "output_type": "execute_result"
    }
   ],
   "source": [
    "not True"
   ]
  },
  {
   "cell_type": "code",
   "execution_count": 16,
   "id": "26da6c86-68ac-46ea-bf65-05f7562df1ed",
   "metadata": {},
   "outputs": [
    {
     "data": {
      "text/plain": [
       "True"
      ]
     },
     "execution_count": 16,
     "metadata": {},
     "output_type": "execute_result"
    }
   ],
   "source": [
    "not False"
   ]
  },
  {
   "cell_type": "code",
   "execution_count": 17,
   "id": "bb553809-9600-453a-93fc-aca64eaae9fe",
   "metadata": {},
   "outputs": [
    {
     "data": {
      "text/plain": [
       "True"
      ]
     },
     "execution_count": 17,
     "metadata": {},
     "output_type": "execute_result"
    }
   ],
   "source": [
    "'cat' in 'my pet cat'"
   ]
  },
  {
   "cell_type": "code",
   "execution_count": 32,
   "id": "254b430f-9576-4add-afe2-9f9a461ae4c7",
   "metadata": {},
   "outputs": [
    {
     "name": "stdout",
     "output_type": "stream",
     "text": [
      "It is false\n",
      "Always print this\n"
     ]
    }
   ],
   "source": [
    "a = False\n",
    "if a:\n",
    "    print('It is true')\n",
    "    print('Also print this')\n",
    "else:\n",
    "    print('It is false')\n",
    "print('Always print this')"
   ]
  },
  {
   "cell_type": "code",
   "execution_count": 34,
   "id": "2805d16e-d708-43f5-8422-5d821f1e3ca2",
   "metadata": {},
   "outputs": [
    {
     "name": "stdout",
     "output_type": "stream",
     "text": [
      "0\n",
      "1\n",
      "2\n",
      "3\n",
      "4\n"
     ]
    }
   ],
   "source": [
    "a = 0\n",
    "while a < 5:\n",
    "    print(a)\n",
    "    a = a + 1"
   ]
  },
  {
   "cell_type": "code",
   "execution_count": 1,
   "id": "fd083035-dc03-4022-ac97-ea0622875e3c",
   "metadata": {},
   "outputs": [
    {
     "data": {
      "text/plain": [
       "12"
      ]
     },
     "execution_count": 1,
     "metadata": {},
     "output_type": "execute_result"
    }
   ],
   "source": [
    "def multiplybythree(val):\n",
    "    return 3 * val\n",
    "\n",
    "multiplybythree(4)"
   ]
  },
  {
   "cell_type": "code",
   "execution_count": 2,
   "id": "57249a9d-ce3d-4377-bc9f-7a6936c36bb2",
   "metadata": {},
   "outputs": [],
   "source": [
    "def multiply(val1, val2):\n",
    "    return val1 * val2"
   ]
  },
  {
   "cell_type": "code",
   "execution_count": 3,
   "id": "ec22c4ea-40f8-4df1-80d1-126c07a8c23c",
   "metadata": {},
   "outputs": [
    {
     "data": {
      "text/plain": [
       "12"
      ]
     },
     "execution_count": 3,
     "metadata": {},
     "output_type": "execute_result"
    }
   ],
   "source": [
    "multiply(3, 4)"
   ]
  },
  {
   "cell_type": "code",
   "execution_count": 4,
   "id": "1f52530e-09a2-449d-8419-c632410b9518",
   "metadata": {},
   "outputs": [
    {
     "name": "stdout",
     "output_type": "stream",
     "text": [
      "[1, 2, 3, 4]\n"
     ]
    }
   ],
   "source": [
    "a = [1, 2, 3]\n",
    "\n",
    "def append4(myList):\n",
    "    myList.append(4)\n",
    "\n",
    "append4(a)\n",
    "print(a)"
   ]
  },
  {
   "cell_type": "code",
   "execution_count": 3,
   "id": "212ec53a-1f40-4344-8661-f87e92a768da",
   "metadata": {},
   "outputs": [
    {
     "data": {
      "text/plain": [
       "NoneType"
      ]
     },
     "execution_count": 3,
     "metadata": {},
     "output_type": "execute_result"
    }
   ],
   "source": [
    "type(None)"
   ]
  },
  {
   "cell_type": "code",
   "execution_count": 22,
   "id": "feecf256-446d-4aa4-95fc-4a6fbde82a59",
   "metadata": {},
   "outputs": [],
   "source": [
    "class Dog:\n",
    "    def __init__(self, name):\n",
    "        self.name = name\n",
    "        self.legs = 4\n",
    "\n",
    "    def speak(self):\n",
    "        print(self.name + ' says: Bark!')\n",
    "    "
   ]
  },
  {
   "cell_type": "code",
   "execution_count": 23,
   "id": "a8728679-ba4a-464d-9600-f0baa02eda18",
   "metadata": {},
   "outputs": [],
   "source": [
    "my_dog = Dog('Olive')\n",
    "another_dog = Dog('Poppy')"
   ]
  },
  {
   "cell_type": "code",
   "execution_count": 24,
   "id": "5bc65986-0e98-45ad-9dcf-925a6426aa07",
   "metadata": {},
   "outputs": [
    {
     "name": "stdout",
     "output_type": "stream",
     "text": [
      "Olive says: Bark!\n"
     ]
    }
   ],
   "source": [
    "my_dog.speak()"
   ]
  },
  {
   "cell_type": "code",
   "execution_count": 25,
   "id": "37a20f11-7ad5-450c-b2f3-98b04f591513",
   "metadata": {},
   "outputs": [
    {
     "name": "stdout",
     "output_type": "stream",
     "text": [
      "Poppy says: Bark!\n"
     ]
    }
   ],
   "source": [
    "another_dog.speak()"
   ]
  },
  {
   "cell_type": "code",
   "execution_count": null,
   "id": "a4765786-6e6f-4c21-b4e6-8ad980f5d3ec",
   "metadata": {},
   "outputs": [],
   "source": []
  },
  {
   "cell_type": "code",
   "execution_count": null,
   "id": "517361db-752d-4cd6-86d4-bbcc86e7acff",
   "metadata": {},
   "outputs": [],
   "source": []
  },
  {
   "cell_type": "code",
   "execution_count": 33,
   "id": "e2a033c8-06f8-408c-a7d0-0cc0a8f97651",
   "metadata": {},
   "outputs": [],
   "source": []
  },
  {
   "cell_type": "code",
   "execution_count": 2,
   "id": "badf1412-488a-4618-b9fa-8f01a3ae27c0",
   "metadata": {},
   "outputs": [],
   "source": [
    "from decimal import Decimal, getcontext"
   ]
  },
  {
   "cell_type": "code",
   "execution_count": 3,
   "id": "74bdff84-920e-47ee-8de5-5caf35821eee",
   "metadata": {},
   "outputs": [
    {
     "data": {
      "text/plain": [
       "Context(prec=28, rounding=ROUND_HALF_EVEN, Emin=-999999, Emax=999999, capitals=1, clamp=0, flags=[], traps=[InvalidOperation, DivisionByZero, Overflow])"
      ]
     },
     "execution_count": 3,
     "metadata": {},
     "output_type": "execute_result"
    }
   ],
   "source": [
    "getcontext()"
   ]
  },
  {
   "cell_type": "code",
   "execution_count": 4,
   "id": "8e264452-c520-41cd-97e1-a35d635e15ea",
   "metadata": {},
   "outputs": [],
   "source": [
    "getcontext().prec=2"
   ]
  },
  {
   "cell_type": "code",
   "execution_count": 6,
   "id": "721ffe05-6c88-4182-8fb8-1b13f14186bc",
   "metadata": {},
   "outputs": [
    {
     "data": {
      "text/plain": [
       "Decimal('2')"
      ]
     },
     "execution_count": 6,
     "metadata": {},
     "output_type": "execute_result"
    }
   ],
   "source": [
    "Decimal(2) / Decimal(1)"
   ]
  },
  {
   "cell_type": "code",
   "execution_count": 7,
   "id": "cfc982e9-1463-4051-99c7-ad684175b572",
   "metadata": {},
   "outputs": [
    {
     "data": {
      "text/plain": [
       "Context(prec=2, rounding=ROUND_HALF_EVEN, Emin=-999999, Emax=999999, capitals=1, clamp=0, flags=[], traps=[InvalidOperation, DivisionByZero, Overflow])"
      ]
     },
     "execution_count": 7,
     "metadata": {},
     "output_type": "execute_result"
    }
   ],
   "source": [
    "getcontext()"
   ]
  },
  {
   "cell_type": "code",
   "execution_count": 8,
   "id": "b43060e7-58d5-4e1d-9735-87000b345e6c",
   "metadata": {},
   "outputs": [
    {
     "data": {
      "text/plain": [
       "2.0"
      ]
     },
     "execution_count": 8,
     "metadata": {},
     "output_type": "execute_result"
    }
   ],
   "source": [
    "2 / 1"
   ]
  },
  {
   "cell_type": "code",
   "execution_count": 9,
   "id": "6fa8f15b-1cd7-45e7-8a65-06387e04b6a0",
   "metadata": {},
   "outputs": [
    {
     "data": {
      "text/plain": [
       "Decimal('2')"
      ]
     },
     "execution_count": 9,
     "metadata": {},
     "output_type": "execute_result"
    }
   ],
   "source": [
    "Decimal(2) / Decimal(1)"
   ]
  },
  {
   "cell_type": "code",
   "execution_count": 10,
   "id": "3f086f44-56e9-491d-8172-41da52e090fc",
   "metadata": {},
   "outputs": [
    {
     "ename": "SyntaxError",
     "evalue": "Missing parentheses in call to 'print'. Did you mean print(...)? (3509711492.py, line 1)",
     "output_type": "error",
     "traceback": [
      "\u001b[0;36m  Cell \u001b[0;32mIn[10], line 1\u001b[0;36m\u001b[0m\n\u001b[0;31m    print Decimal()\u001b[0m\n\u001b[0m    ^\u001b[0m\n\u001b[0;31mSyntaxError\u001b[0m\u001b[0;31m:\u001b[0m Missing parentheses in call to 'print'. Did you mean print(...)?\n"
     ]
    }
   ],
   "source": [
    "print Decimal()\n"
   ]
  },
  {
   "cell_type": "code",
   "execution_count": 11,
   "id": "87c2760b-17c4-4c43-9ece-7409d36e31d3",
   "metadata": {},
   "outputs": [
    {
     "ename": "NameError",
     "evalue": "name 'decimal' is not defined",
     "output_type": "error",
     "traceback": [
      "\u001b[0;31m---------------------------------------------------------------------------\u001b[0m",
      "\u001b[0;31mNameError\u001b[0m                                 Traceback (most recent call last)",
      "Cell \u001b[0;32mIn[11], line 1\u001b[0m\n\u001b[0;32m----> 1\u001b[0m \u001b[38;5;28mprint\u001b[39m(\u001b[43mdecimal\u001b[49m)\n",
      "\u001b[0;31mNameError\u001b[0m: name 'decimal' is not defined"
     ]
    }
   ],
   "source": [
    "print(decimal)"
   ]
  },
  {
   "cell_type": "code",
   "execution_count": 12,
   "id": "960a3add-07a8-410c-bb78-6b7f3c41191b",
   "metadata": {},
   "outputs": [
    {
     "name": "stdout",
     "output_type": "stream",
     "text": [
      "<class 'decimal.Decimal'>\n"
     ]
    }
   ],
   "source": [
    "print(Decimal)"
   ]
  },
  {
   "cell_type": "code",
   "execution_count": 13,
   "id": "b9988fff-0d2f-4ada-bd57-803c14d07075",
   "metadata": {},
   "outputs": [
    {
     "data": {
      "text/plain": [
       "3"
      ]
     },
     "execution_count": 13,
     "metadata": {},
     "output_type": "execute_result"
    }
   ],
   "source": [
    "round(1.2 + 2.2)"
   ]
  },
  {
   "cell_type": "code",
   "execution_count": 14,
   "id": "58a2d38e-5e14-4eb8-9d1a-0d86e3280545",
   "metadata": {},
   "outputs": [
    {
     "data": {
      "text/plain": [
       "True"
      ]
     },
     "execution_count": 14,
     "metadata": {},
     "output_type": "execute_result"
    }
   ],
   "source": [
    "bool(1)\n"
   ]
  },
  {
   "cell_type": "raw",
   "id": "671a931c-0350-4910-9d93-b2db2807ef83",
   "metadata": {},
   "source": []
  },
  {
   "cell_type": "code",
   "execution_count": 17,
   "id": "bf1453ff-766c-41d1-9b19-f2669eeb2293",
   "metadata": {},
   "outputs": [
    {
     "data": {
      "text/plain": [
       "True"
      ]
     },
     "execution_count": 17,
     "metadata": {},
     "output_type": "execute_result"
    }
   ],
   "source": [
    "bool('something')\n"
   ]
  },
  {
   "cell_type": "code",
   "execution_count": 18,
   "id": "dc99691e-b81f-4699-9311-48b2453bd052",
   "metadata": {},
   "outputs": [
    {
     "name": "stdout",
     "output_type": "stream",
     "text": [
      "I still can go for a walk\n"
     ]
    }
   ],
   "source": [
    "weatherIsNice = False\n",
    "IHaveUmbrella = True\n",
    "\n",
    "if IHaveUmbrella or weatherIsNice:\n",
    "    print(\"I still can go for a walk\")\n",
    "else:\n",
    "    print(\"I better stay inside\")"
   ]
  },
  {
   "cell_type": "code",
   "execution_count": 19,
   "id": "81a28f1a-20c5-40d2-92f8-9ad5d814bea1",
   "metadata": {},
   "outputs": [
    {
     "name": "stdout",
     "output_type": "stream",
     "text": [
      "I better stay inside\n"
     ]
    }
   ],
   "source": [
    "weatherIsNice = False\n",
    "IHaveUmbrella = False\n",
    "\n",
    "if IHaveUmbrella or weatherIsNice:\n",
    "    print(\"I still can go for a walk\")\n",
    "else:\n",
    "    print(\"I better stay inside\")"
   ]
  },
  {
   "cell_type": "code",
   "execution_count": 33,
   "id": "a48c7c07-f328-4b15-af90-b14ab01179e8",
   "metadata": {},
   "outputs": [
    {
     "name": "stdout",
     "output_type": "stream",
     "text": [
      "I better stay inside\n"
     ]
    }
   ],
   "source": [
    "weatherIsNice = False\n",
    "IHaveUmbrella = True\n",
    "\n",
    "if (not IHaveUmbrella) and (not weatherIsNice):\n",
    "    print(\"I still can go for a walk\")\n",
    "else:\n",
    "    print(\"I better stay inside\")"
   ]
  },
  {
   "cell_type": "code",
   "execution_count": 41,
   "id": "90d5711a-5e5e-4296-969a-e527b9b39ff4",
   "metadata": {},
   "outputs": [
    {
     "name": "stdout",
     "output_type": "stream",
     "text": [
      "I still can go for a walk\n"
     ]
    }
   ],
   "source": [
    "weatherIsNice = False\n",
    "IHaveUmbrella = True\n",
    "\n",
    "if not IHaveUmbrella and not weatherIsNice:\n",
    "    print(\"I better stay inside\")\n",
    "else:\n",
    "    print(\"I still can go for a walk\")"
   ]
  },
  {
   "cell_type": "code",
   "execution_count": null,
   "id": "4edd81dc-c058-434b-abc7-efe70edcd090",
   "metadata": {},
   "outputs": [],
   "source": []
  },
  {
   "cell_type": "code",
   "execution_count": null,
   "id": "3c9cad71-9528-4269-bdbe-28af709f762c",
   "metadata": {},
   "outputs": [],
   "source": []
  },
  {
   "cell_type": "code",
   "execution_count": 44,
   "id": "1a09d5ce-c505-4670-8253-2e7b38c4db3d",
   "metadata": {},
   "outputs": [
    {
     "data": {
      "text/plain": [
       "'My number is 5 and twice that is 10'"
      ]
     },
     "execution_count": 44,
     "metadata": {},
     "output_type": "execute_result"
    }
   ],
   "source": [
    "f'My number is {5} and twice that is {2*5}'"
   ]
  },
  {
   "cell_type": "code",
   "execution_count": 48,
   "id": "065307c1-b610-4cb8-bcea-e320ca023d14",
   "metadata": {},
   "outputs": [],
   "source": [
    "import math"
   ]
  },
  {
   "cell_type": "code",
   "execution_count": 52,
   "id": "739c9259-40bd-4cd2-ab40-34c80c026618",
   "metadata": {},
   "outputs": [
    {
     "data": {
      "text/plain": [
       "'Pi is 3.14'"
      ]
     },
     "execution_count": 52,
     "metadata": {},
     "output_type": "execute_result"
    }
   ],
   "source": [
    "f'Pi is {math.pi:.2f}'"
   ]
  },
  {
   "cell_type": "code",
   "execution_count": 53,
   "id": "a37e8f5c-0ef9-4408-9a89-9a0edcd1a82a",
   "metadata": {},
   "outputs": [
    {
     "data": {
      "text/plain": [
       "'Pi is 3.141592653589793'"
      ]
     },
     "execution_count": 53,
     "metadata": {},
     "output_type": "execute_result"
    }
   ],
   "source": [
    "'Pi is {}'.format(math.pi)"
   ]
  },
  {
   "cell_type": "code",
   "execution_count": 57,
   "id": "c6e2d773-511d-4951-b1f1-4deddfdefcdd",
   "metadata": {},
   "outputs": [
    {
     "ename": "AttributeError",
     "evalue": "'builtin_function_or_method' object has no attribute 'format'",
     "output_type": "error",
     "traceback": [
      "\u001b[0;31m---------------------------------------------------------------------------\u001b[0m",
      "\u001b[0;31mAttributeError\u001b[0m                            Traceback (most recent call last)",
      "Cell \u001b[0;32mIn[57], line 1\u001b[0m\n\u001b[0;32m----> 1\u001b[0m \u001b[38;5;28;43mlen\u001b[39;49m\u001b[38;5;241;43m.\u001b[39;49m\u001b[43mformat\u001b[49m(math\u001b[38;5;241m.\u001b[39mpi)\n",
      "\u001b[0;31mAttributeError\u001b[0m: 'builtin_function_or_method' object has no attribute 'format'"
     ]
    }
   ],
   "source": [
    "len.format(math.pi)"
   ]
  },
  {
   "cell_type": "code",
   "execution_count": 61,
   "id": "d7e022e5-e71f-4770-b44a-a999ea41878f",
   "metadata": {},
   "outputs": [
    {
     "ename": "AttributeError",
     "evalue": "'builtin_function_or_method' object has no attribute 'format'",
     "output_type": "error",
     "traceback": [
      "\u001b[0;31m---------------------------------------------------------------------------\u001b[0m",
      "\u001b[0;31mAttributeError\u001b[0m                            Traceback (most recent call last)",
      "Cell \u001b[0;32mIn[61], line 3\u001b[0m\n\u001b[1;32m      1\u001b[0m \u001b[38;5;28;01mimport\u001b[39;00m \u001b[38;5;21;01mmath\u001b[39;00m\n\u001b[0;32m----> 3\u001b[0m pi_formatted \u001b[38;5;241m=\u001b[39m \u001b[38;5;28;43mlen\u001b[39;49m\u001b[38;5;241;43m.\u001b[39;49m\u001b[43mformat\u001b[49m(math\u001b[38;5;241m.\u001b[39mpi)  \u001b[38;5;66;03m# Format pi using len\u001b[39;00m\n\u001b[1;32m      4\u001b[0m pi_length \u001b[38;5;241m=\u001b[39m \u001b[38;5;28mlen\u001b[39m(pi_formatted)      \u001b[38;5;66;03m# Get the length of the formatted string\u001b[39;00m\n\u001b[1;32m      6\u001b[0m \u001b[38;5;28mprint\u001b[39m(pi_length)\n",
      "\u001b[0;31mAttributeError\u001b[0m: 'builtin_function_or_method' object has no attribute 'format'"
     ]
    }
   ],
   "source": [
    "import math\n",
    "\n",
    "pi_formatted = len.format(math.pi)  # Format pi using len\n",
    "pi_length = len(pi_formatted)      # Get the length of the formatted string\n",
    "\n",
    "print(pi_length)"
   ]
  },
  {
   "cell_type": "code",
   "execution_count": null,
   "id": "ade72df7-1924-4be8-9041-e2a39c8d058f",
   "metadata": {},
   "outputs": [],
   "source": []
  }
 ],
 "metadata": {
  "kernelspec": {
   "display_name": "Python 3 (ipykernel)",
   "language": "python",
   "name": "python3"
  },
  "language_info": {
   "codemirror_mode": {
    "name": "ipython",
    "version": 3
   },
   "file_extension": ".py",
   "mimetype": "text/x-python",
   "name": "python",
   "nbconvert_exporter": "python",
   "pygments_lexer": "ipython3",
   "version": "3.11.7"
  }
 },
 "nbformat": 4,
 "nbformat_minor": 5
}
